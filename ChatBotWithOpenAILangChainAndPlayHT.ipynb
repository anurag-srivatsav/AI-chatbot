{
  "nbformat": 4,
  "nbformat_minor": 0,
  "metadata": {
    "colab": {
      "provenance": []
    },
    "kernelspec": {
      "name": "python3",
      "display_name": "Python 3"
    },
    "language_info": {
      "name": "python"
    }
  },
  "cells": [
    {
      "cell_type": "code",
      "execution_count": null,
      "metadata": {
        "id": "iaFpQYVOPO7s"
      },
      "outputs": [],
      "source": [
        "!pip install langchain\n",
        "!pip install openai\n",
        "!pip install gradio\n",
        "!pip install huggingface_hub"
      ]
    },
    {
      "cell_type": "code",
      "source": [
        "import os\n",
        "import re\n",
        "import requests\n",
        "import json\n",
        "import gradio as gr\n",
        "from langchain.chat_models import ChatOpenAI\n",
        "from langchain import LLMChain, PromptTemplate\n",
        "from langchain.memory import ConversationBufferMemory"
      ],
      "metadata": {
        "id": "n_4c9g78PTB3"
      },
      "execution_count": null,
      "outputs": []
    },
    {
      "cell_type": "markdown",
      "source": [
        "**How to get Open AI API Key?**\n",
        "- Go to https://platform.openai.com/account/api-keys\n",
        "- Create a new Secret Key\n",
        "- Copy the Secret Key for your use.\n",
        "\n",
        "**How to get PlayHT User ID and PlayHT API Key?**\n",
        "- Login to PlayHT - https://play.ht/\n",
        "- Go to https://play.ht/studio/api-access\n",
        "- Copy the User ID\n",
        "- Generate the Secret Key\n",
        "- Copy the Secret Key for your use."
      ],
      "metadata": {
        "id": "bK6QFLYhPW3n"
      }
    },
    {
      "cell_type": "code",
      "source": [
        "OPENAI_API_KEY=\"OPENAI_API_KEY\"\n",
        "PLAY_HT_API_KEY=\"PLAY_HT_API_KEY\"\n",
        "PLAY_HT_USER_ID=\"PLAY_HT_USER_ID\""
      ],
      "metadata": {
        "id": "mVpMLFgWPdBc"
      },
      "execution_count": null,
      "outputs": []
    },
    {
      "cell_type": "code",
      "source": [
        "os.environ[\"OPENAI_API_KEY\"] = OPENAI_API_KEY"
      ],
      "metadata": {
        "id": "zCKqAG5b01Ts"
      },
      "execution_count": null,
      "outputs": []
    },
    {
      "cell_type": "markdown",
      "source": [
        "**How to get the existing Voice Clone ID?**\n",
        "- Go to https://docs.play.ht/reference/api-list-cloned-voices\n",
        "- In the right side section, select language python\n",
        "- Enter Authorization as Bearer XY***********AS\n",
        "- Enter User ID Ac******v1\n",
        "- Click on Try It you can see the id in the response\n",
        "- Now you can use that id in the get_payload as value for voice"
      ],
      "metadata": {
        "id": "bwkSFOdhPwes"
      }
    },
    {
      "cell_type": "code",
      "source": [
        "play_ht_api_get_audio_url = \"https://play.ht/api/v2/tts\"\n",
        "PLAY_HT_VOICE_ID=\"PLAY_HT_VOICE_ID\""
      ],
      "metadata": {
        "id": "wbdk5oX3Pny1"
      },
      "execution_count": null,
      "outputs": []
    },
    {
      "cell_type": "code",
      "source": [
        "template = \"\"\"You are a helpful assistant to answer user queries.\n",
        "{chat_history}\n",
        "User: {user_message}\n",
        "Chatbot:\"\"\"\n",
        "\n",
        "prompt = PromptTemplate(\n",
        "    input_variables=[\"chat_history\", \"user_message\"], template=template\n",
        ")\n",
        "\n",
        "memory = ConversationBufferMemory(memory_key=\"chat_history\")"
      ],
      "metadata": {
        "id": "al0k5N94PppH"
      },
      "execution_count": null,
      "outputs": []
    },
    {
      "cell_type": "code",
      "source": [
        "llm_chain = LLMChain(\n",
        "    llm=ChatOpenAI(temperature='0.5', model_name=\"gpt-3.5-turbo\"),\n",
        "    prompt=prompt,\n",
        "    verbose=True,\n",
        "    memory=memory,\n",
        ")"
      ],
      "metadata": {
        "id": "HYbJTUv3PrMG"
      },
      "execution_count": null,
      "outputs": []
    },
    {
      "cell_type": "code",
      "source": [
        "headers = {\n",
        "      \"accept\": \"text/event-stream\",\n",
        "      \"content-type\": \"application/json\",\n",
        "      \"AUTHORIZATION\": \"Bearer \"+ PLAY_HT_API_KEY,\n",
        "      \"X-USER-ID\": PLAY_HT_USER_ID\n",
        "}"
      ],
      "metadata": {
        "id": "iZ_B8U-iPuGt"
      },
      "execution_count": null,
      "outputs": []
    },
    {
      "cell_type": "code",
      "source": [
        "def get_payload(text):\n",
        "  return {\n",
        "    \"text\": text,\n",
        "    \"voice\": PLAY_HT_VOICE_ID,\n",
        "    \"quality\": \"medium\",\n",
        "    \"output_format\": \"mp3\",\n",
        "    \"speed\": 1,\n",
        "    \"sample_rate\": 24000,\n",
        "    \"seed\": None,\n",
        "    \"temperature\": None\n",
        "  }\n",
        "\n",
        "def get_generated_audio(text):\n",
        "  payload = get_payload(text)\n",
        "  generated_response = {}\n",
        "  try:\n",
        "      response = requests.post(play_ht_api_get_audio_url, json=payload, headers=headers)\n",
        "      response.raise_for_status()\n",
        "      generated_response[\"type\"]= 'SUCCESS'\n",
        "      generated_response[\"response\"] = response.text\n",
        "  except requests.exceptions.RequestException as e:\n",
        "      generated_response[\"type\"]= 'ERROR'\n",
        "      try:\n",
        "        response_text = json.loads(response.text)\n",
        "        if response_text['error_message']:\n",
        "          generated_response[\"response\"] = response_text['error_message']\n",
        "        else:\n",
        "          generated_response[\"response\"] = response.text\n",
        "      except Exception as e:\n",
        "        generated_response[\"response\"] = response.text\n",
        "  except Exception as e:\n",
        "    generated_response[\"type\"]= 'ERROR'\n",
        "    generated_response[\"response\"] = response.text\n",
        "  return generated_response\n",
        "\n",
        "def extract_urls(text):\n",
        "    # Define the regex pattern for URLs\n",
        "    url_pattern = r'https?://(?:[-\\w.]|(?:%[\\da-fA-F]{2}))+[/\\w\\.-]*'\n",
        "\n",
        "    # Find all occurrences of URLs in the text\n",
        "    urls = re.findall(url_pattern, text)\n",
        "\n",
        "    return urls\n",
        "\n",
        "def get_audio_reply_for_question(text):\n",
        "  generated_audio_event = get_generated_audio(text)\n",
        "  #From get_generated_audio, you will get events in a string format, from that we need to extract the url\n",
        "  final_response = {\n",
        "      \"audio_url\": '',\n",
        "      \"message\": ''\n",
        "  }\n",
        "  if generated_audio_event[\"type\"] == 'SUCCESS':\n",
        "    audio_urls = extract_urls(generated_audio_event[\"response\"])\n",
        "    if len(audio_urls) == 0:\n",
        "      final_response['message'] = \"No audio file link found in generated event\"\n",
        "    else:\n",
        "      final_response['audio_url'] = audio_urls[-1]\n",
        "  else:\n",
        "    final_response['message'] = generated_audio_event['response']\n",
        "  return final_response\n",
        "\n",
        "def download_url(url):\n",
        "    try:\n",
        "        # Send a GET request to the URL to fetch the content\n",
        "        final_response = {\n",
        "            'content':'',\n",
        "            'error':''\n",
        "        }\n",
        "        response = requests.get(url)\n",
        "        # Check if the request was successful (status code 200)\n",
        "        if response.status_code == 200:\n",
        "            final_response['content'] = response.content\n",
        "        else:\n",
        "            final_response['error'] = f\"Failed to download the URL. Status code: {response.status_code}\"\n",
        "    except Exception as e:\n",
        "        final_response['error'] = f\"Failed to download the URL. Error: {e}\"\n",
        "    return final_response\n",
        "\n",
        "def get_filename_from_url(url):\n",
        "    # Use os.path.basename() to extract the file name from the URL\n",
        "    file_name = os.path.basename(url)\n",
        "    return file_name\n"
      ],
      "metadata": {
        "id": "YuzcIDW8P1F8"
      },
      "execution_count": null,
      "outputs": []
    },
    {
      "cell_type": "code",
      "source": [
        "def get_text_response(user_message):\n",
        "    response = llm_chain.predict(user_message = user_message)\n",
        "    return response"
      ],
      "metadata": {
        "id": "bZGC3ZE_1CHj"
      },
      "execution_count": null,
      "outputs": []
    },
    {
      "cell_type": "code",
      "source": [
        "def get_text_response_and_audio_response(user_message):\n",
        "    response = get_text_response(user_message) # Getting the reply from Open AI\n",
        "    audio_reply_for_question_response = get_audio_reply_for_question(response)\n",
        "    final_response = {\n",
        "        'output_file_path': '',\n",
        "        'message':''\n",
        "    }\n",
        "    audio_url = audio_reply_for_question_response['audio_url']\n",
        "    if audio_url:\n",
        "      output_file_path=get_filename_from_url(audio_url)\n",
        "      download_url_response = download_url(audio_url)\n",
        "      audio_content = download_url_response['content']\n",
        "      if audio_content:\n",
        "        with open(output_file_path, \"wb\") as audio_file:\n",
        "          audio_file.write(audio_content)\n",
        "          final_response['output_file_path'] = output_file_path\n",
        "      else:\n",
        "          final_response['message'] = download_url_response['error']\n",
        "    else:\n",
        "      final_response['message'] = audio_reply_for_question_response['message']\n",
        "    return final_response"
      ],
      "metadata": {
        "id": "3uRmqFVz1DRr"
      },
      "execution_count": null,
      "outputs": []
    },
    {
      "cell_type": "code",
      "source": [
        "def chat_bot_response(message, history):\n",
        "    text_and_audio_response = get_text_response_and_audio_response(message)\n",
        "    output_file_path = text_and_audio_response['output_file_path']\n",
        "    if output_file_path:\n",
        "      return (text_and_audio_response['output_file_path'],)\n",
        "    else:\n",
        "      return text_and_audio_response['message']\n",
        "\n",
        "demo = gr.ChatInterface(chat_bot_response,examples=[\"How are you doing?\",\"What are your interests?\",\"Which places do you like to visit?\"])"
      ],
      "metadata": {
        "id": "1hpVa_DG1HYd"
      },
      "execution_count": null,
      "outputs": []
    },
    {
      "cell_type": "code",
      "source": [
        "if __name__ == \"__main__\":\n",
        "    demo.launch() #To create a public link, set `share=True` in `launch()`. To enable errors and logs, set `debug=True` in `launch()`."
      ],
      "metadata": {
        "id": "Fgg94Jkc1K37"
      },
      "execution_count": null,
      "outputs": []
    },
    {
      "cell_type": "markdown",
      "source": [
        "### Publish your code with below steps"
      ],
      "metadata": {
        "id": "XuZZsO0224It"
      }
    },
    {
      "cell_type": "code",
      "source": [
        "from huggingface_hub import notebook_login\n",
        "\n",
        "notebook_login()"
      ],
      "metadata": {
        "id": "70HtZ8Xi3I4o"
      },
      "execution_count": null,
      "outputs": []
    },
    {
      "cell_type": "code",
      "source": [
        "from huggingface_hub import HfApi\n",
        "api = HfApi()"
      ],
      "metadata": {
        "id": "sFs0i4UT3KzA"
      },
      "execution_count": null,
      "outputs": []
    },
    {
      "cell_type": "code",
      "source": [
        "HUGGING_FACE_REPO_ID = \"<<Hugging Face UserName/Repo ID>>\""
      ],
      "metadata": {
        "id": "zPcVNQxpJBT7"
      },
      "execution_count": null,
      "outputs": []
    },
    {
      "cell_type": "markdown",
      "source": [
        "**Adding Secret Variables in Hugging Face Account:**\n",
        "\n",
        "- Open your Space\n",
        "- Click on Settings Button\n",
        "- Checkout to **Variables and secrets** section\n",
        "- Create New Secrets"
      ],
      "metadata": {
        "id": "kFoF3eyv3UwU"
      }
    },
    {
      "cell_type": "markdown",
      "source": [
        "*Note*: Make sure to add your below secret keys\n",
        "- OPENAI_API_KEY\n",
        "- PLAY_HT_API_KEY\n",
        "- PLAY_HT_USER_ID\n",
        "- PLAY_HT_VOICE_ID"
      ],
      "metadata": {
        "id": "izkvfLpj3gBj"
      }
    },
    {
      "cell_type": "code",
      "source": [
        "%mkdir /content/ChatBotWithOpenAILangChainAndPlayHT\n",
        "!wget -P  /content/ChatBotWithOpenAILangChainAndPlayHT/ https://s3.ap-south-1.amazonaws.com/cdn1.ccbp.in/GenAI-Workshop/ChatBotWithOpenAILangChainPlayHT2/app.py\n",
        "!wget -P /content/ChatBotWithOpenAILangChainAndPlayHT/ https://s3.ap-south-1.amazonaws.com/cdn1.ccbp.in/GenAI-Workshop/ChatBotWithOpenAILangChainPlayHT/requirements.txt"
      ],
      "metadata": {
        "id": "BDe7JGOi3Uf_"
      },
      "execution_count": null,
      "outputs": []
    },
    {
      "cell_type": "code",
      "source": [
        "%cd /content/ChatBotWithOpenAILangChainAndPlayHT\n",
        "\n",
        "api.upload_file(\n",
        "    path_or_fileobj=\"./requirements.txt\",\n",
        "    path_in_repo=\"requirements.txt\",\n",
        "    repo_id=HUGGING_FACE_REPO_ID,\n",
        "    repo_type=\"space\")\n",
        "\n",
        "api.upload_file(\n",
        "    path_or_fileobj=\"./app.py\",\n",
        "    path_in_repo=\"app.py\",\n",
        "    repo_id=HUGGING_FACE_REPO_ID,\n",
        "    repo_type=\"space\")"
      ],
      "metadata": {
        "colab": {
          "base_uri": "https://localhost:8080/",
          "height": 54
        },
        "id": "Wecl2xX23_Gv",
        "outputId": "0e227d30-857b-4d43-8fb3-e11bebbe8d05"
      },
      "execution_count": null,
      "outputs": [
        {
          "output_type": "execute_result",
          "data": {
            "text/plain": [
              "'https://huggingface.co/spaces/LavanyaBurlagadda/FinalTestingBeforeRecordingWithPlayHT/blob/main/app.py'"
            ],
            "application/vnd.google.colaboratory.intrinsic+json": {
              "type": "string"
            }
          },
          "metadata": {},
          "execution_count": 42
        }
      ]
    },
    {
      "cell_type": "code",
      "source": [],
      "metadata": {
        "id": "N--r92ug46-X"
      },
      "execution_count": null,
      "outputs": []
    }
  ]
}